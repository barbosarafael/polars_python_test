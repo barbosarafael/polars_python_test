{
 "cells": [
  {
   "cell_type": "markdown",
   "id": "0fbd46c7-ab7b-4e8d-b67e-f04d7053b6bf",
   "metadata": {},
   "source": [
    "# Pandas -> Polars"
   ]
  },
  {
   "cell_type": "code",
   "execution_count": 1,
   "id": "c9a732ca-e201-4725-b58f-dd77f8dbe1aa",
   "metadata": {},
   "outputs": [],
   "source": [
    "import polars as pl\n",
    "import pandas as pd\n",
    "import numpy as np"
   ]
  }
 ],
 "metadata": {
  "kernelspec": {
   "display_name": "Python 3 (ipykernel)",
   "language": "python",
   "name": "python3"
  },
  "language_info": {
   "codemirror_mode": {
    "name": "ipython",
    "version": 3
   },
   "file_extension": ".py",
   "mimetype": "text/x-python",
   "name": "python",
   "nbconvert_exporter": "python",
   "pygments_lexer": "ipython3",
   "version": "3.10.6"
  }
 },
 "nbformat": 4,
 "nbformat_minor": 5
}
